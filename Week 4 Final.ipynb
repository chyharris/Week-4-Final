{
 "cells": [
  {
   "cell_type": "markdown",
   "id": "2e1470aa-a1de-4903-afb2-6019dfd5fd03",
   "metadata": {},
   "source": [
    "# My Jupyter Notebook on Watson Studio"
   ]
  },
  {
   "cell_type": "markdown",
   "id": "0ebc50f4-af2c-44e1-b1d2-45836b9bbc4f",
   "metadata": {},
   "source": [
    "**Chalamar Harris**\n",
    "\n",
    "Data Scientist"
   ]
  },
  {
   "cell_type": "markdown",
   "id": "3bf8640b-61b9-487f-84c3-0f69b8d123cb",
   "metadata": {},
   "source": [
    "*I'm interested in becoming a Data Scientist because it's an exciting, and emerging career of of the 21st century. As technology continues to devoloping, the potential for the career perpectually grows.*"
   ]
  },
  {
   "cell_type": "markdown",
   "id": "d4c7d264-0584-4126-aa76-cefb82fa4dd5",
   "metadata": {},
   "source": [
    "### My code in Cell 5 will demonstrate my ability to code simple addition."
   ]
  },
  {
   "cell_type": "code",
   "execution_count": 2,
   "id": "cecd9453-71a9-43cd-9c2d-cf00156c94dd",
   "metadata": {},
   "outputs": [
    {
     "data": {
      "text/plain": [
       "4590"
      ]
     },
     "execution_count": 2,
     "metadata": {},
     "output_type": "execute_result"
    }
   ],
   "source": [
    "4536 + 54"
   ]
  },
  {
   "cell_type": "markdown",
   "id": "8977f33f-459a-48df-8c73-7bc991d89eb3",
   "metadata": {},
   "source": [
    "~~This looks pretty cool.~~\n",
    "\n",
    "| Tables   | Look   | Great |\n",
    "| -------- |:------:|\n",
    "\n",
    "1. But \n",
    "2. List\n",
    "3. Are\n",
    "4. Better"
   ]
  },
  {
   "cell_type": "code",
   "execution_count": null,
   "id": "85bdc427-3bce-4d98-9944-73f2721471a5",
   "metadata": {},
   "outputs": [],
   "source": []
  }
 ],
 "metadata": {
  "kernelspec": {
   "display_name": "Python",
   "language": "python",
   "name": "conda-env-python-py"
  },
  "language_info": {
   "codemirror_mode": {
    "name": "ipython",
    "version": 3
   },
   "file_extension": ".py",
   "mimetype": "text/x-python",
   "name": "python",
   "nbconvert_exporter": "python",
   "pygments_lexer": "ipython3",
   "version": "3.7.12"
  }
 },
 "nbformat": 4,
 "nbformat_minor": 5
}
